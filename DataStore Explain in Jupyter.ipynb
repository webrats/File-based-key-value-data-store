{
 "cells": [
  {
   "cell_type": "code",
   "execution_count": 1,
   "metadata": {},
   "outputs": [],
   "source": [
    "\n",
    "import os\n",
    "import sys\n",
    "import time\n",
    "import threading\n",
    "import json\n",
    "\n",
    "\n",
    "    \n",
    "    #Creates a unique file name for datastore by appending epoch timestamp to the file name\n",
    "    \n",
    "def get_file_name():\n",
    "    import uuid\n",
    "    uniq_append_string = uuid.uuid4().hex\n",
    "    return \"LOCAL_STORAGE_{}\".format(uniq_append_string)\n",
    "\n",
    "    #Creates a unique file name with actual path for datastore and return \n",
    "    \n",
    "def get_instance(file_name=None):\n",
    "    if file_name is None:\n",
    "        file_name = get_file_name()\n",
    "    import os\n",
    "\n",
    "    try:\n",
    "        os.mkdir('C:/tmp')\n",
    "    except:\n",
    "        full_file_name = f\"{'C:/tmp'}/{file_name+'.txt'}\"\n",
    "    return full_file_name\n",
    "\n",
    "\n",
    "\n",
    "# Actual DataStore class \n",
    "class DataStore:\n",
    "\n",
    "    # 'd' is the dictionary in which we store data\n",
    "    def __init__(self, file_descriptor=None):\n",
    "        self.__lock = threading.Lock()\n",
    "        if(file_descriptor != None and os.path.isfile(file_descriptor)):\n",
    "            self.file_descriptor = file_descriptor\n",
    "        else:\n",
    "            self.file_descriptor = get_instance()\n",
    "        self.f = open(self.file_descriptor, 'w+')\n",
    "        #\n",
    "        self.d = dict(self.f.read())\n",
    "    # for create operation\n",
    "    # use syntax \"create(key_name,value,timeout_value)\" timeout is optional you can continue by passing two arguments without timeout\n",
    "\n",
    "    def create(self, key, value, timeout=0):\n",
    "        self.__lock.acquire()\n",
    "        try:\n",
    "            self.key = key\n",
    "            self.value = value\n",
    "            self.timeout = timeout\n",
    "            if self.key in self.d:\n",
    "                print(\"error: this key already exists\")  # error message1\n",
    "            else:\n",
    "                if(self.key.isalpha()):\n",
    "                    # constraints for file size less than 1GB and Jasonobject value less than 16KB\n",
    "                    if (sys.getsizeof(self.d) < (1024*1024*1024) and sys.getsizeof(self.value) <= (16000)):\n",
    "                        if (self.timeout == 0):\n",
    "                            self.l = [self.value, self.timeout]\n",
    "                        else:\n",
    "                            self.l = [self.value, time.time()+self.timeout]\n",
    "\n",
    "                        if (len(self.key) <= 32):  # constraints for input key_name capped at 32chars\n",
    "                            self.d[self.key] = self.l\n",
    "                        else:\n",
    "                            print(\"error: Key Size must be between 32 character\")\n",
    "                            \n",
    "                    else:\n",
    "                        # error message2\n",
    "                        print(\"error: Memory limit exceeded!! \")\n",
    "                else:\n",
    "                    # error message3\n",
    "                    print(\n",
    "                        \"error: Invalind key_name!! key_name must contain only alphabets and no special characters or numbers\")\n",
    "        finally:\n",
    "            self.__lock.release()\n",
    "\n",
    "    # for read operation\n",
    "    # use syntax \"read(key_name)\"\n",
    "\n",
    "    def read(self, key):\n",
    "        self.__lock.acquire()\n",
    "        try:\n",
    "            self.json = {}\n",
    "            self.key = key\n",
    "            if (self.key not in self.d):\n",
    "                # error message4\n",
    "                print(\n",
    "                    \"error: given key does not exist in database. Please enter a valid key\")\n",
    "            else:\n",
    "                self.b = self.d[key]\n",
    "                if (self.b[1] != 0):\n",
    "                    # comparing the present time with expiry time\n",
    "                    if (time.time() < self.b[1]):\n",
    "                        # to return the value in the format of JasonObject i.e.,\"key_name:value\"\n",
    "                        if(type(self.b[0]) != dict()):\n",
    "                            res = dict(self.b[0])\n",
    "\n",
    "                        return res\n",
    "                    else:\n",
    "                        print(\"error: time-to-live of\", self.key,\n",
    "                              \"has expired\")  # error message5\n",
    "                else:\n",
    "                    if(type(self.b[0]) != dict()):\n",
    "                        res = dict(self.b[0])\n",
    "\n",
    "                    return res\n",
    "        finally:\n",
    "            self.__lock.release()\n",
    "\n",
    "    # for delete operation\n",
    "    # use syntax \"delete(key_name)\"\n",
    "\n",
    "    def delete(self, key):\n",
    "        self.key = key\n",
    "        if (self.key not in self.d):\n",
    "            # error message4\n",
    "            raise \"error: given key does not exist in database. Please enter a valid key\"\n",
    "        else:\n",
    "            self.b = self.d[key]\n",
    "            if (self.b[1] != 0):\n",
    "                # comparing the current time with expiry time\n",
    "                if (time.time() < self.b[1]):\n",
    "                    del self.d[key]\n",
    "                    print(\"key is successfully deleted\")\n",
    "                else:\n",
    "                    print(\"error: time-to-live of\", self.key,\n",
    "                          \"has expired\")  # error message5\n",
    "            else:\n",
    "                del self.d[key]\n",
    "                print(\"key is successfully deleted\")\n",
    "    # it Will save the data in a logical file on path : C:/tmp/*.txt\n",
    "    def save(self):\n",
    "        x = json.dumps(self.d, indent=4)\n",
    "        self.f.write(x)\n",
    "        self.f.close()\n",
    "\n"
   ]
  },
  {
   "cell_type": "code",
   "execution_count": 2,
   "metadata": {},
   "outputs": [],
   "source": [
    "#instantiateing The DataStore Class\n",
    "\n",
    "datastore = DataStore()"
   ]
  },
  {
   "cell_type": "markdown",
   "metadata": {},
   "source": [
    "### Create Key-Value datastore using create() method "
   ]
  },
  {
   "cell_type": "code",
   "execution_count": 3,
   "metadata": {},
   "outputs": [],
   "source": [
    "#to create a key with key_name,value given and with no time-to-live property\n",
    "datastore.create('student',{'name':'amit','roll':14})"
   ]
  },
  {
   "cell_type": "code",
   "execution_count": 4,
   "metadata": {},
   "outputs": [],
   "source": [
    "#to create a key with key_name,value given and with time-to-live property (120 second)\n",
    "datastore.create('studenttwo',{'name':'polash','roll':20},120) \n"
   ]
  },
  {
   "cell_type": "code",
   "execution_count": 5,
   "metadata": {},
   "outputs": [],
   "source": [
    "#to create a key with key_name,value given and with time-to-live property (3600 second)\n",
    "datastore.create(\"teacher\",{'name':\"Rafi\",'age':30},3600)"
   ]
  },
  {
   "cell_type": "markdown",
   "metadata": {},
   "source": [
    "### Access All the key which is presnt on Data Store using read() method\n",
    "\n",
    "###### Access Value from Data store using read() method . It return JSON format output"
   ]
  },
  {
   "cell_type": "code",
   "execution_count": 6,
   "metadata": {},
   "outputs": [
    {
     "data": {
      "text/plain": [
       "{'name': 'amit', 'roll': 14}"
      ]
     },
     "execution_count": 6,
     "metadata": {},
     "output_type": "execute_result"
    }
   ],
   "source": [
    "# Access Value from Data store using read() method . It return JSON format output\n",
    "datastore.read('student')"
   ]
  },
  {
   "cell_type": "code",
   "execution_count": 7,
   "metadata": {},
   "outputs": [
    {
     "data": {
      "text/plain": [
       "{'name': 'polash', 'roll': 20}"
      ]
     },
     "execution_count": 7,
     "metadata": {},
     "output_type": "execute_result"
    }
   ],
   "source": [
    "datastore.read('studenttwo')"
   ]
  },
  {
   "cell_type": "code",
   "execution_count": 8,
   "metadata": {},
   "outputs": [
    {
     "data": {
      "text/plain": [
       "{'name': 'Rafi', 'age': 30}"
      ]
     },
     "execution_count": 8,
     "metadata": {},
     "output_type": "execute_result"
    }
   ],
   "source": [
    "datastore.read('teacher')"
   ]
  },
  {
   "cell_type": "markdown",
   "metadata": {},
   "source": [
    "### check time-to-live property\n",
    "*** studenttwo key had 120sec time-to-live property ***\n"
   ]
  },
  {
   "cell_type": "code",
   "execution_count": 9,
   "metadata": {},
   "outputs": [
    {
     "name": "stdout",
     "output_type": "stream",
     "text": [
      "error: time-to-live of studenttwo has expired\n"
     ]
    }
   ],
   "source": [
    "#After 120 sec \n",
    "# after 120 sec it will expaired\n",
    "datastore.read('studenttwo')"
   ]
  },
  {
   "cell_type": "code",
   "execution_count": 10,
   "metadata": {},
   "outputs": [
    {
     "data": {
      "text/plain": [
       "{'name': 'amit', 'roll': 14}"
      ]
     },
     "execution_count": 10,
     "metadata": {},
     "output_type": "execute_result"
    }
   ],
   "source": [
    "#After 120 sec\n",
    "#student key has no time-to-live property \n",
    "datastore.read('student')"
   ]
  },
  {
   "cell_type": "code",
   "execution_count": 11,
   "metadata": {},
   "outputs": [
    {
     "data": {
      "text/plain": [
       "{'name': 'Rafi', 'age': 30}"
      ]
     },
     "execution_count": 11,
     "metadata": {},
     "output_type": "execute_result"
    }
   ],
   "source": [
    "#student key has  time-to-live property (3600 sec) \n",
    "datastore.read('teacher')"
   ]
  },
  {
   "cell_type": "markdown",
   "metadata": {},
   "source": [
    "### Delete() method check "
   ]
  },
  {
   "cell_type": "code",
   "execution_count": 12,
   "metadata": {},
   "outputs": [
    {
     "name": "stdout",
     "output_type": "stream",
     "text": [
      "key is successfully deleted\n"
     ]
    }
   ],
   "source": [
    "datastore.delete('teacher')"
   ]
  },
  {
   "cell_type": "code",
   "execution_count": 13,
   "metadata": {},
   "outputs": [
    {
     "name": "stdout",
     "output_type": "stream",
     "text": [
      "error: given key does not exist in database. Please enter a valid key\n"
     ]
    }
   ],
   "source": [
    "datastore.read('teacher')"
   ]
  },
  {
   "cell_type": "code",
   "execution_count": 14,
   "metadata": {},
   "outputs": [
    {
     "name": "stdout",
     "output_type": "stream",
     "text": [
      "error: time-to-live of studenttwo has expired\n"
     ]
    }
   ],
   "source": [
    "datastore.delete('studenttwo')"
   ]
  },
  {
   "cell_type": "markdown",
   "metadata": {},
   "source": [
    "### key name have some Constraints also \n",
    "***Lets check it***"
   ]
  },
  {
   "cell_type": "code",
   "execution_count": 15,
   "metadata": {},
   "outputs": [
    {
     "name": "stdout",
     "output_type": "stream",
     "text": [
      "error: Invalind key_name!! key_name must contain only alphabets and no special characters or numbers\n"
     ]
    }
   ],
   "source": [
    "#key will only support 32 character of Alphabet\n",
    "datastore.create('student123',{'name': 'polash', 'roll': 20})\n",
    "# student123 this key contain integer in it so it gives error"
   ]
  },
  {
   "cell_type": "code",
   "execution_count": 16,
   "metadata": {},
   "outputs": [
    {
     "name": "stdout",
     "output_type": "stream",
     "text": [
      "error: Invalind key_name!! key_name must contain only alphabets and no special characters or numbers\n"
     ]
    }
   ],
   "source": [
    "#key will only support 32 character of Alphabet\n",
    "datastore.create('student_djs',{'name': 'polash', 'roll': 20})\n",
    "# student123 this key contain underscore(_) in it so it gives error"
   ]
  },
  {
   "cell_type": "code",
   "execution_count": 17,
   "metadata": {},
   "outputs": [
    {
     "name": "stdout",
     "output_type": "stream",
     "text": [
      "error: Key Size must be between 32 character\n"
     ]
    }
   ],
   "source": [
    "#key will only support 32 character of Alphabet\n",
    "datastore.create('abcdsjdhfsjdhdfjdhfhdhfdhfhdfjskfhskfhsfhsdfhsdjfsdjkhfsdhfdfhdfsdkjfhskdfhsdhfsdkfh',{'name': 'polash', 'roll': 20})\n",
    "# student123 this key contain integer in it so it gives error"
   ]
  },
  {
   "cell_type": "markdown",
   "metadata": {},
   "source": [
    "### We can save this data in text file \n",
    "### save()\n",
    "***This method will store the data in a unique file (C:/tmp/*.txt)***"
   ]
  },
  {
   "cell_type": "code",
   "execution_count": 18,
   "metadata": {},
   "outputs": [],
   "source": [
    "datastore.save()"
   ]
  },
  {
   "cell_type": "markdown",
   "metadata": {},
   "source": [
    "the code also returns other errors like <br>\n",
    "#\"invalidkey\" if key_length is greater than 32 or key_name contains any numeric,special characters etc. <br>\n",
    "#\"key doesnot exist\" if key_name was mis-spelt or deleted earlier<br>\n",
    "#\"File memory limit reached\" if file memory exceeds 1GB<br>"
   ]
  },
  {
   "cell_type": "code",
   "execution_count": null,
   "metadata": {},
   "outputs": [],
   "source": []
  }
 ],
 "metadata": {
  "kernelspec": {
   "display_name": "Python 3",
   "language": "python",
   "name": "python3"
  },
  "language_info": {
   "codemirror_mode": {
    "name": "ipython",
    "version": 3
   },
   "file_extension": ".py",
   "mimetype": "text/x-python",
   "name": "python",
   "nbconvert_exporter": "python",
   "pygments_lexer": "ipython3",
   "version": "3.8.5"
  }
 },
 "nbformat": 4,
 "nbformat_minor": 4
}
